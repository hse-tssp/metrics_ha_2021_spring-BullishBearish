{
 "cells": [
  {
   "cell_type": "markdown",
   "metadata": {},
   "source": [
    "## Импорт данных RLMS"
   ]
  },
  {
   "cell_type": "code",
   "execution_count": 4,
   "metadata": {},
   "outputs": [],
   "source": [
    "import pyreadstat\n",
    "#import pandas as pd"
   ]
  },
  {
   "cell_type": "code",
   "execution_count": 11,
   "metadata": {},
   "outputs": [
    {
     "data": {
      "text/html": [
       "<div>\n",
       "<style scoped>\n",
       "    .dataframe tbody tr th:only-of-type {\n",
       "        vertical-align: middle;\n",
       "    }\n",
       "\n",
       "    .dataframe tbody tr th {\n",
       "        vertical-align: top;\n",
       "    }\n",
       "\n",
       "    .dataframe thead th {\n",
       "        text-align: right;\n",
       "    }\n",
       "</style>\n",
       "<table border=\"1\" class=\"dataframe\">\n",
       "  <thead>\n",
       "    <tr style=\"text-align: right;\">\n",
       "      <th></th>\n",
       "      <th>id</th>\n",
       "      <th>year</th>\n",
       "      <th>log_income</th>\n",
       "      <th>hours</th>\n",
       "    </tr>\n",
       "  </thead>\n",
       "  <tbody>\n",
       "    <tr>\n",
       "      <th>32419</th>\n",
       "      <td>1.0</td>\n",
       "      <td>1997.0</td>\n",
       "      <td>5.683580</td>\n",
       "      <td>30.0</td>\n",
       "    </tr>\n",
       "    <tr>\n",
       "      <th>43094</th>\n",
       "      <td>1.0</td>\n",
       "      <td>1998.0</td>\n",
       "      <td>6.606650</td>\n",
       "      <td>30.0</td>\n",
       "    </tr>\n",
       "    <tr>\n",
       "      <th>54070</th>\n",
       "      <td>1.0</td>\n",
       "      <td>1999.0</td>\n",
       "      <td>7.517521</td>\n",
       "      <td>35.0</td>\n",
       "    </tr>\n",
       "    <tr>\n",
       "      <th>66191</th>\n",
       "      <td>1.0</td>\n",
       "      <td>2000.0</td>\n",
       "      <td>7.824046</td>\n",
       "      <td>22.0</td>\n",
       "    </tr>\n",
       "    <tr>\n",
       "      <th>78714</th>\n",
       "      <td>1.0</td>\n",
       "      <td>2001.0</td>\n",
       "      <td>9.277999</td>\n",
       "      <td>22.0</td>\n",
       "    </tr>\n",
       "    <tr>\n",
       "      <th>...</th>\n",
       "      <td>...</td>\n",
       "      <td>...</td>\n",
       "      <td>...</td>\n",
       "      <td>...</td>\n",
       "    </tr>\n",
       "    <tr>\n",
       "      <th>371871</th>\n",
       "      <td>59393.0</td>\n",
       "      <td>2017.0</td>\n",
       "      <td>10.596635</td>\n",
       "      <td>48.0</td>\n",
       "    </tr>\n",
       "    <tr>\n",
       "      <th>371872</th>\n",
       "      <td>59394.0</td>\n",
       "      <td>2017.0</td>\n",
       "      <td>11.141862</td>\n",
       "      <td>35.0</td>\n",
       "    </tr>\n",
       "    <tr>\n",
       "      <th>371875</th>\n",
       "      <td>59398.0</td>\n",
       "      <td>2017.0</td>\n",
       "      <td>10.126631</td>\n",
       "      <td>40.0</td>\n",
       "    </tr>\n",
       "    <tr>\n",
       "      <th>371876</th>\n",
       "      <td>59400.0</td>\n",
       "      <td>2017.0</td>\n",
       "      <td>9.392662</td>\n",
       "      <td>40.0</td>\n",
       "    </tr>\n",
       "    <tr>\n",
       "      <th>371884</th>\n",
       "      <td>59410.0</td>\n",
       "      <td>2017.0</td>\n",
       "      <td>10.275051</td>\n",
       "      <td>40.0</td>\n",
       "    </tr>\n",
       "  </tbody>\n",
       "</table>\n",
       "<p>130474 rows × 4 columns</p>\n",
       "</div>"
      ],
      "text/plain": [
       "             id    year  log_income  hours\n",
       "32419       1.0  1997.0    5.683580   30.0\n",
       "43094       1.0  1998.0    6.606650   30.0\n",
       "54070       1.0  1999.0    7.517521   35.0\n",
       "66191       1.0  2000.0    7.824046   22.0\n",
       "78714       1.0  2001.0    9.277999   22.0\n",
       "...         ...     ...         ...    ...\n",
       "371871  59393.0  2017.0   10.596635   48.0\n",
       "371872  59394.0  2017.0   11.141862   35.0\n",
       "371875  59398.0  2017.0   10.126631   40.0\n",
       "371876  59400.0  2017.0    9.392662   40.0\n",
       "371884  59410.0  2017.0   10.275051   40.0\n",
       "\n",
       "[130474 rows x 4 columns]"
      ]
     },
     "execution_count": 11,
     "metadata": {},
     "output_type": "execute_result"
    }
   ],
   "source": [
    "#df1_estim = pd.read_csv(\"ha_ts.csv\",index_col=0)\n",
    "df, meta = pyreadstat.read_sav(\"dta.sav\")\n",
    "#df\n",
    "#df1_estim"
   ]
  },
  {
   "cell_type": "markdown",
   "metadata": {},
   "source": [
    "## Обработка данных"
   ]
  },
  {
   "cell_type": "markdown",
   "metadata": {},
   "source": [
    "Анализируется зависимость трудового дохода в последние 30 дней от средней длины рабочей недели"
   ]
  },
  {
   "cell_type": "code",
   "execution_count": null,
   "metadata": {},
   "outputs": [],
   "source": [
    "import pandas as pd\n",
    "import numpy as np"
   ]
  },
  {
   "cell_type": "code",
   "execution_count": null,
   "metadata": {},
   "outputs": [],
   "source": [
    "df1 = df.loc[:,[\"IDIND\", \"ID_W\", \"J6.2\", \"J10\"]]\n",
    "df1.rename(columns={\"IDIND\": \"id\", \"ID_W\":\"year\", \"J6.2\":\"hours\", \"J10\":\"income\"}, inplace=True)"
   ]
  },
  {
   "cell_type": "code",
   "execution_count": null,
   "metadata": {},
   "outputs": [],
   "source": [
    "year_new = df1.loc[:,\"year\"] + 1989\n",
    "df1.loc[:,\"year\"] = year_new"
   ]
  },
  {
   "cell_type": "code",
   "execution_count": null,
   "metadata": {},
   "outputs": [],
   "source": [
    "log_income = np.log(df1.loc[:,\"income\"])\n",
    "df1.loc[:,\"log_income\"] = log_income\n",
    "#print(df1)"
   ]
  },
  {
   "cell_type": "code",
   "execution_count": null,
   "metadata": {
    "scrolled": false
   },
   "outputs": [],
   "source": [
    "df1_clean = df1.replace([99999997, 99999998, 99999999], np.NaN).dropna()\n",
    "#print(df1_clean)"
   ]
  },
  {
   "cell_type": "code",
   "execution_count": null,
   "metadata": {},
   "outputs": [],
   "source": [
    "df1_sorted = df1_clean.sort_values(by=[\"id\", \"year\"])\n",
    "#print(df1_sorted)"
   ]
  },
  {
   "cell_type": "markdown",
   "metadata": {},
   "source": [
    "## Визуализация данных за 2010 год"
   ]
  },
  {
   "cell_type": "code",
   "execution_count": null,
   "metadata": {},
   "outputs": [],
   "source": [
    "import matplotlib.pyplot as plt"
   ]
  },
  {
   "cell_type": "code",
   "execution_count": null,
   "metadata": {},
   "outputs": [],
   "source": [
    "df1_plot = df1_sorted[(df1_sorted[\"year\"]==2010)]\n",
    "#print(df1_plot)"
   ]
  },
  {
   "cell_type": "code",
   "execution_count": null,
   "metadata": {
    "scrolled": true
   },
   "outputs": [],
   "source": [
    "plt.scatter(x=\"hours\", y=\"log_income\", data=df1_plot)\n",
    "plt.xlabel(\"Average working week, hours\")\n",
    "plt.ylabel(\"Log of income in last 30 days, roubles\")\n",
    "plt.title(\"Effect of longer working hours on income in 2010\\n\")\n",
    "plt.show()"
   ]
  },
  {
   "cell_type": "markdown",
   "metadata": {},
   "source": [
    "## Подготовка к построению моделей"
   ]
  },
  {
   "cell_type": "code",
   "execution_count": null,
   "metadata": {},
   "outputs": [],
   "source": [
    "df1_estim = df1_sorted.loc[:,[\"id\",\"year\",\"log_income\",\"hours\"]]\n",
    "df1_estim.to_csv(\"ha_ts.csv\",index=True)\n",
    "#print(df1_estim)"
   ]
  },
  {
   "cell_type": "code",
   "execution_count": 13,
   "metadata": {},
   "outputs": [],
   "source": [
    "import statsmodels.api as sm"
   ]
  },
  {
   "cell_type": "code",
   "execution_count": 14,
   "metadata": {},
   "outputs": [],
   "source": [
    "df1_mod = df1_estim.set_index([\"id\", \"year\"])\n",
    "dep = df1_mod[\"log_income\"]\n",
    "exog = sm.add_constant(df1_mod[[\"hours\"]])"
   ]
  },
  {
   "cell_type": "markdown",
   "metadata": {},
   "source": [
    "### Оценка сквозной модели"
   ]
  },
  {
   "cell_type": "code",
   "execution_count": 15,
   "metadata": {},
   "outputs": [],
   "source": [
    "from linearmodels import PooledOLS"
   ]
  },
  {
   "cell_type": "code",
   "execution_count": 17,
   "metadata": {},
   "outputs": [],
   "source": [
    "mod1 = PooledOLS(dep, exog)\n",
    "res1 = mod1.fit(cov_type=\"robust\")\n",
    "#print(res1)"
   ]
  },
  {
   "cell_type": "markdown",
   "metadata": {},
   "source": [
    "### Оценка модели с фиксированными эффектами"
   ]
  },
  {
   "cell_type": "code",
   "execution_count": 18,
   "metadata": {},
   "outputs": [],
   "source": [
    "from linearmodels import PanelOLS"
   ]
  },
  {
   "cell_type": "markdown",
   "metadata": {},
   "source": [
    "Установим параметр entity_effects=True для проверки гипотезы о равенстве индивидуальных эффектов и сравнения модели с фиксированными эффектами со сквозной моделью"
   ]
  },
  {
   "cell_type": "code",
   "execution_count": 19,
   "metadata": {},
   "outputs": [],
   "source": [
    "mod2 = PanelOLS(dep, exog, entity_effects=True)\n",
    "res2 = mod2.fit(cov_type='robust')\n",
    "#print(res2)"
   ]
  },
  {
   "cell_type": "markdown",
   "metadata": {},
   "source": [
    "Гипотеза о равенстве индивидуальных эффектов отвергается при любом разумном уровне значимости, поэтому лучше использовать модель с фиксированными эффектами"
   ]
  },
  {
   "cell_type": "markdown",
   "metadata": {},
   "source": [
    "### Оценка модели со случайными эффектами"
   ]
  },
  {
   "cell_type": "code",
   "execution_count": 20,
   "metadata": {},
   "outputs": [],
   "source": [
    "from linearmodels import RandomEffects"
   ]
  },
  {
   "cell_type": "code",
   "execution_count": 21,
   "metadata": {},
   "outputs": [],
   "source": [
    "mod3 = RandomEffects(df1_mod.log_income, exog)\n",
    "res3 = mod3.fit(cov_type=\"robust\")\n",
    "#print(res3)"
   ]
  },
  {
   "cell_type": "markdown",
   "metadata": {},
   "source": [
    "### Сравнение оценок разных моделей"
   ]
  },
  {
   "cell_type": "code",
   "execution_count": 22,
   "metadata": {},
   "outputs": [
    {
     "name": "stdout",
     "output_type": "stream",
     "text": [
      "                            Model Comparison                           \n",
      "=======================================================================\n",
      "                                Pooled             FE                RE\n",
      "-----------------------------------------------------------------------\n",
      "Dep. Variable               log_income     log_income        log_income\n",
      "Estimator                    PooledOLS       PanelOLS     RandomEffects\n",
      "No. Observations                130474         130474            130474\n",
      "Cov. Est.                       Robust         Robust            Robust\n",
      "R-squared                       0.0147         0.0038            0.6349\n",
      "R-Squared (Within)             -0.0007         0.0038            0.0035\n",
      "R-Squared (Between)             0.0178         0.0110            0.0149\n",
      "R-Squared (Overall)             0.0147         0.0107            0.0119\n",
      "F-statistic                     1941.8         390.68         2.268e+05\n",
      "P-value (F-stat)                0.0000         0.0000            0.0000\n",
      "=====================     ============   ============   ===============\n",
      "const                           8.6947         8.9493            8.8559\n",
      "                              (701.98)       (614.23)          (635.36)\n",
      "hours                           0.0111         0.0053            0.0068\n",
      "                              (41.093)       (16.280)          (24.718)\n",
      "======================= ============== ============== =================\n",
      "Effects                                        Entity                  \n",
      "-----------------------------------------------------------------------\n",
      "\n",
      "T-stats reported in parentheses\n"
     ]
    }
   ],
   "source": [
    "from linearmodels.panel import compare\n",
    "print(compare({'Pooled':res1,'FE':res2,'RE':res3}))"
   ]
  },
  {
   "cell_type": "markdown",
   "metadata": {},
   "source": [
    "### Тест Хаусмана для выбора между FE и RE"
   ]
  },
  {
   "cell_type": "code",
   "execution_count": 23,
   "metadata": {},
   "outputs": [],
   "source": [
    "from scipy.stats import chi2"
   ]
  },
  {
   "cell_type": "markdown",
   "metadata": {},
   "source": [
    "Оценки коэффициентов моделей RE и FE соответственно"
   ]
  },
  {
   "cell_type": "code",
   "execution_count": 24,
   "metadata": {},
   "outputs": [],
   "source": [
    "q_re = res3.params[\"hours\"]\n",
    "q_fe = res2.params[\"hours\"]"
   ]
  },
  {
   "cell_type": "markdown",
   "metadata": {},
   "source": [
    "Расчет статистики Хаусмана"
   ]
  },
  {
   "cell_type": "code",
   "execution_count": 25,
   "metadata": {},
   "outputs": [],
   "source": [
    "v_re = res3.std_errors[\"hours\"] ** 2\n",
    "v_fe = res2.std_errors[\"hours\"] ** 2"
   ]
  },
  {
   "cell_type": "code",
   "execution_count": 26,
   "metadata": {},
   "outputs": [],
   "source": [
    "q = q_fe - q_re\n",
    "v = v_fe - v_re"
   ]
  },
  {
   "cell_type": "code",
   "execution_count": 27,
   "metadata": {},
   "outputs": [],
   "source": [
    "m = q * v ** (-1) * q\n",
    "#print(m)"
   ]
  },
  {
   "cell_type": "markdown",
   "metadata": {},
   "source": [
    "Расчет критического значения"
   ]
  },
  {
   "cell_type": "code",
   "execution_count": 28,
   "metadata": {},
   "outputs": [],
   "source": [
    "q = 0.95\n",
    "doff = res3.df_model\n",
    "m_cr = chi2.ppf(q, doff)\n",
    "#print(m_cr)"
   ]
  },
  {
   "cell_type": "markdown",
   "metadata": {},
   "source": [
    "H0: ковариация случайного эффекта с регрессорами равна нуля\n",
    "H1: -//- не равна нулю"
   ]
  },
  {
   "cell_type": "code",
   "execution_count": 29,
   "metadata": {},
   "outputs": [
    {
     "name": "stdout",
     "output_type": "stream",
     "text": [
      "H_0 отвергается\n"
     ]
    }
   ],
   "source": [
    "if m > m_cr:\n",
    "    print(\"H_0 отвергается\")\n",
    "else:\n",
    "    print(\"H_0 не отвергается\")"
   ]
  },
  {
   "cell_type": "markdown",
   "metadata": {},
   "source": [
    "Следовательно, лучше использовать модель с фиксированным эффектом"
   ]
  },
  {
   "cell_type": "markdown",
   "metadata": {},
   "source": [
    "Ответ на главный вопрос: 42"
   ]
  },
  {
   "cell_type": "markdown",
   "metadata": {},
   "source": [
    "Ответ на другой главный вопрос: доход за последние 30 дней и средняя длинна рабочей недели взаимосвязаны при любом разумном уровне значимости по результатам тестов. "
   ]
  }
 ],
 "metadata": {
  "kernelspec": {
   "display_name": "Python 3",
   "language": "python",
   "name": "python3"
  },
  "language_info": {
   "codemirror_mode": {
    "name": "ipython",
    "version": 3
   },
   "file_extension": ".py",
   "mimetype": "text/x-python",
   "name": "python",
   "nbconvert_exporter": "python",
   "pygments_lexer": "ipython3",
   "version": "3.8.8"
  }
 },
 "nbformat": 4,
 "nbformat_minor": 4
}
